{
 "cells": [
  {
   "cell_type": "markdown",
   "id": "04cf7d77",
   "metadata": {},
   "source": [
    "aaaaaaaaaaaaaaaa"
   ]
  },
  {
   "cell_type": "code",
   "execution_count": 3,
   "id": "56476747",
   "metadata": {},
   "outputs": [
    {
     "name": "stdout",
     "output_type": "stream",
     "text": [
      "Está funcionando?\n"
     ]
    }
   ],
   "source": [
    "print(\"Está funcionando?\")"
   ]
  }
 ],
 "metadata": {
  "kernelspec": {
   "display_name": "ai-devs-42QQuZS_",
   "language": "python",
   "name": "python3"
  },
  "language_info": {
   "codemirror_mode": {
    "name": "ipython",
    "version": 3
   },
   "file_extension": ".py",
   "mimetype": "text/x-python",
   "name": "python",
   "nbconvert_exporter": "python",
   "pygments_lexer": "ipython3",
   "version": "3.13.3"
  }
 },
 "nbformat": 4,
 "nbformat_minor": 5
}
