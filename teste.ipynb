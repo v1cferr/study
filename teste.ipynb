{
 "cells": [
  {
   "cell_type": "markdown",
   "id": "d50db39e",
   "metadata": {},
   "source": [
    "## Importando e verificando versão do Pandas"
   ]
  },
  {
   "cell_type": "code",
   "execution_count": 19,
   "id": "56476747",
   "metadata": {},
   "outputs": [],
   "source": [
    "import pandas as pd"
   ]
  },
  {
   "cell_type": "code",
   "execution_count": 20,
   "id": "dc8b787e",
   "metadata": {},
   "outputs": [
    {
     "data": {
      "text/plain": [
       "'2.2.3'"
      ]
     },
     "execution_count": 20,
     "metadata": {},
     "output_type": "execute_result"
    }
   ],
   "source": [
    "pd.__version__"
   ]
  },
  {
   "cell_type": "markdown",
   "id": "02a6940c",
   "metadata": {},
   "source": [
    "## Dados de exemplo"
   ]
  },
  {
   "cell_type": "code",
   "execution_count": 21,
   "id": "60d57985",
   "metadata": {},
   "outputs": [],
   "source": [
    "data = {\n",
    "    'nome': ['Vitor', 'Leticia', 'Eduardo', 'Alice', 'Roberto', 'Marina', 'Carlos', 'Julia', 'Bruno', 'Fernanda', 'Lucas', 'Paula', 'André', 'Camila', 'Rafael'],\n",
    "    'idade': [26, 23, 25, 22, 34, 28, 31, 24, 27, 29, 30, 21, 33, 26, 32],\n",
    "    'altura': [1.75, 1.65, 1.8, 1.6, 1.7, 1.68, 1.82, 1.62, 1.77, 1.66, 1.73, 1.58, 1.79, 1.64, 1.81],\n",
    "    'peso': [70, 55, 65, 50, 75, 60, 80, 53, 72, 58, 68, 49, 77, 54, 76],\n",
    "    'sexo': ['M', 'F', 'M', 'F', 'M', 'F', 'M', 'F', 'M', 'F', 'M', 'F', 'M', 'F', 'M'],\n",
    "    'cidade': ['São Paulo', 'Rio de Janeiro', 'Belo Horizonte', 'Recife', 'Brasília', 'Curitiba', 'Salvador', 'Fortaleza', 'Manaus', 'Porto Alegre', 'Belém', 'Goiânia', 'Natal', 'Maceió', 'João Pessoa'],\n",
    "    'estado': ['SP', 'RJ', 'MG', 'PE', 'DF', 'PR', 'BA', 'CE', 'AM', 'RS', 'PA', 'GO', 'RN', 'AL', 'PB']\n",
    "}"
   ]
  },
  {
   "cell_type": "markdown",
   "id": "ab5d7312",
   "metadata": {},
   "source": [
    "## Criando um arquivo JSON"
   ]
  },
  {
   "cell_type": "code",
   "execution_count": 22,
   "id": "4ad85116",
   "metadata": {},
   "outputs": [],
   "source": [
    "import json\n",
    "\n",
    "with open('data.json', 'w', encoding='utf-8') as f:\n",
    "    json.dump(data, f, ensure_ascii=False)"
   ]
  },
  {
   "cell_type": "markdown",
   "id": "b3cae6b1",
   "metadata": {},
   "source": [
    "### Lendo o JSON e criando o DataFrame"
   ]
  },
  {
   "cell_type": "code",
   "execution_count": 23,
   "id": "783d1171",
   "metadata": {},
   "outputs": [
    {
     "data": {
      "text/html": [
       "<div>\n",
       "<style scoped>\n",
       "    .dataframe tbody tr th:only-of-type {\n",
       "        vertical-align: middle;\n",
       "    }\n",
       "\n",
       "    .dataframe tbody tr th {\n",
       "        vertical-align: top;\n",
       "    }\n",
       "\n",
       "    .dataframe thead th {\n",
       "        text-align: right;\n",
       "    }\n",
       "</style>\n",
       "<table border=\"1\" class=\"dataframe\">\n",
       "  <thead>\n",
       "    <tr style=\"text-align: right;\">\n",
       "      <th></th>\n",
       "      <th>nome</th>\n",
       "      <th>idade</th>\n",
       "      <th>altura</th>\n",
       "      <th>peso</th>\n",
       "      <th>sexo</th>\n",
       "      <th>cidade</th>\n",
       "      <th>estado</th>\n",
       "    </tr>\n",
       "  </thead>\n",
       "  <tbody>\n",
       "    <tr>\n",
       "      <th>0</th>\n",
       "      <td>Vitor</td>\n",
       "      <td>26</td>\n",
       "      <td>1.75</td>\n",
       "      <td>70</td>\n",
       "      <td>M</td>\n",
       "      <td>São Paulo</td>\n",
       "      <td>SP</td>\n",
       "    </tr>\n",
       "    <tr>\n",
       "      <th>1</th>\n",
       "      <td>Leticia</td>\n",
       "      <td>23</td>\n",
       "      <td>1.65</td>\n",
       "      <td>55</td>\n",
       "      <td>F</td>\n",
       "      <td>Rio de Janeiro</td>\n",
       "      <td>RJ</td>\n",
       "    </tr>\n",
       "    <tr>\n",
       "      <th>2</th>\n",
       "      <td>Eduardo</td>\n",
       "      <td>25</td>\n",
       "      <td>1.80</td>\n",
       "      <td>65</td>\n",
       "      <td>M</td>\n",
       "      <td>Belo Horizonte</td>\n",
       "      <td>MG</td>\n",
       "    </tr>\n",
       "    <tr>\n",
       "      <th>3</th>\n",
       "      <td>Alice</td>\n",
       "      <td>22</td>\n",
       "      <td>1.60</td>\n",
       "      <td>50</td>\n",
       "      <td>F</td>\n",
       "      <td>Recife</td>\n",
       "      <td>PE</td>\n",
       "    </tr>\n",
       "    <tr>\n",
       "      <th>4</th>\n",
       "      <td>Roberto</td>\n",
       "      <td>34</td>\n",
       "      <td>1.70</td>\n",
       "      <td>75</td>\n",
       "      <td>M</td>\n",
       "      <td>Brasília</td>\n",
       "      <td>DF</td>\n",
       "    </tr>\n",
       "    <tr>\n",
       "      <th>5</th>\n",
       "      <td>Marina</td>\n",
       "      <td>28</td>\n",
       "      <td>1.68</td>\n",
       "      <td>60</td>\n",
       "      <td>F</td>\n",
       "      <td>Curitiba</td>\n",
       "      <td>PR</td>\n",
       "    </tr>\n",
       "    <tr>\n",
       "      <th>6</th>\n",
       "      <td>Carlos</td>\n",
       "      <td>31</td>\n",
       "      <td>1.82</td>\n",
       "      <td>80</td>\n",
       "      <td>M</td>\n",
       "      <td>Salvador</td>\n",
       "      <td>BA</td>\n",
       "    </tr>\n",
       "    <tr>\n",
       "      <th>7</th>\n",
       "      <td>Julia</td>\n",
       "      <td>24</td>\n",
       "      <td>1.62</td>\n",
       "      <td>53</td>\n",
       "      <td>F</td>\n",
       "      <td>Fortaleza</td>\n",
       "      <td>CE</td>\n",
       "    </tr>\n",
       "    <tr>\n",
       "      <th>8</th>\n",
       "      <td>Bruno</td>\n",
       "      <td>27</td>\n",
       "      <td>1.77</td>\n",
       "      <td>72</td>\n",
       "      <td>M</td>\n",
       "      <td>Manaus</td>\n",
       "      <td>AM</td>\n",
       "    </tr>\n",
       "    <tr>\n",
       "      <th>9</th>\n",
       "      <td>Fernanda</td>\n",
       "      <td>29</td>\n",
       "      <td>1.66</td>\n",
       "      <td>58</td>\n",
       "      <td>F</td>\n",
       "      <td>Porto Alegre</td>\n",
       "      <td>RS</td>\n",
       "    </tr>\n",
       "    <tr>\n",
       "      <th>10</th>\n",
       "      <td>Lucas</td>\n",
       "      <td>30</td>\n",
       "      <td>1.73</td>\n",
       "      <td>68</td>\n",
       "      <td>M</td>\n",
       "      <td>Belém</td>\n",
       "      <td>PA</td>\n",
       "    </tr>\n",
       "    <tr>\n",
       "      <th>11</th>\n",
       "      <td>Paula</td>\n",
       "      <td>21</td>\n",
       "      <td>1.58</td>\n",
       "      <td>49</td>\n",
       "      <td>F</td>\n",
       "      <td>Goiânia</td>\n",
       "      <td>GO</td>\n",
       "    </tr>\n",
       "    <tr>\n",
       "      <th>12</th>\n",
       "      <td>André</td>\n",
       "      <td>33</td>\n",
       "      <td>1.79</td>\n",
       "      <td>77</td>\n",
       "      <td>M</td>\n",
       "      <td>Natal</td>\n",
       "      <td>RN</td>\n",
       "    </tr>\n",
       "    <tr>\n",
       "      <th>13</th>\n",
       "      <td>Camila</td>\n",
       "      <td>26</td>\n",
       "      <td>1.64</td>\n",
       "      <td>54</td>\n",
       "      <td>F</td>\n",
       "      <td>Maceió</td>\n",
       "      <td>AL</td>\n",
       "    </tr>\n",
       "    <tr>\n",
       "      <th>14</th>\n",
       "      <td>Rafael</td>\n",
       "      <td>32</td>\n",
       "      <td>1.81</td>\n",
       "      <td>76</td>\n",
       "      <td>M</td>\n",
       "      <td>João Pessoa</td>\n",
       "      <td>PB</td>\n",
       "    </tr>\n",
       "  </tbody>\n",
       "</table>\n",
       "</div>"
      ],
      "text/plain": [
       "        nome  idade  altura  peso sexo          cidade estado\n",
       "0      Vitor     26    1.75    70    M       São Paulo     SP\n",
       "1    Leticia     23    1.65    55    F  Rio de Janeiro     RJ\n",
       "2    Eduardo     25    1.80    65    M  Belo Horizonte     MG\n",
       "3      Alice     22    1.60    50    F          Recife     PE\n",
       "4    Roberto     34    1.70    75    M        Brasília     DF\n",
       "5     Marina     28    1.68    60    F        Curitiba     PR\n",
       "6     Carlos     31    1.82    80    M        Salvador     BA\n",
       "7      Julia     24    1.62    53    F       Fortaleza     CE\n",
       "8      Bruno     27    1.77    72    M          Manaus     AM\n",
       "9   Fernanda     29    1.66    58    F    Porto Alegre     RS\n",
       "10     Lucas     30    1.73    68    M           Belém     PA\n",
       "11     Paula     21    1.58    49    F         Goiânia     GO\n",
       "12     André     33    1.79    77    M           Natal     RN\n",
       "13    Camila     26    1.64    54    F          Maceió     AL\n",
       "14    Rafael     32    1.81    76    M     João Pessoa     PB"
      ]
     },
     "execution_count": 23,
     "metadata": {},
     "output_type": "execute_result"
    }
   ],
   "source": [
    "import json\n",
    "\n",
    "with open('data.json', 'r', encoding='utf-8') as f:\n",
    "    data = json.load(f)\n",
    "\n",
    "df = pd.DataFrame.from_dict(data)\n",
    "df"
   ]
  },
  {
   "cell_type": "markdown",
   "id": "ec6cf93e",
   "metadata": {},
   "source": [
    "## Medidas de Tendência Central"
   ]
  },
  {
   "cell_type": "markdown",
   "id": "e1373143",
   "metadata": {},
   "source": [
    "### Média"
   ]
  },
  {
   "cell_type": "code",
   "execution_count": 24,
   "id": "35eff48b",
   "metadata": {},
   "outputs": [
    {
     "data": {
      "text/plain": [
       "np.float64(27.4)"
      ]
     },
     "execution_count": 24,
     "metadata": {},
     "output_type": "execute_result"
    }
   ],
   "source": [
    "media = df['idade'].mean()\n",
    "media"
   ]
  },
  {
   "cell_type": "markdown",
   "id": "74da91c4",
   "metadata": {},
   "source": [
    "### Mediana"
   ]
  },
  {
   "cell_type": "code",
   "execution_count": 25,
   "id": "98fc9422",
   "metadata": {},
   "outputs": [
    {
     "data": {
      "text/plain": [
       "np.float64(27.0)"
      ]
     },
     "execution_count": 25,
     "metadata": {},
     "output_type": "execute_result"
    }
   ],
   "source": [
    "mediana = df['idade'].median()\n",
    "mediana"
   ]
  }
 ],
 "metadata": {
  "kernelspec": {
   "display_name": "ai-devs-42QQuZS_",
   "language": "python",
   "name": "python3"
  },
  "language_info": {
   "codemirror_mode": {
    "name": "ipython",
    "version": 3
   },
   "file_extension": ".py",
   "mimetype": "text/x-python",
   "name": "python",
   "nbconvert_exporter": "python",
   "pygments_lexer": "ipython3",
   "version": "3.13.3"
  }
 },
 "nbformat": 4,
 "nbformat_minor": 5
}
